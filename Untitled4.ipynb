{
  "nbformat": 4,
  "nbformat_minor": 0,
  "metadata": {
    "colab": {
      "provenance": [],
      "authorship_tag": "ABX9TyMcsY/wpuMUj/udtpad0zV0",
      "include_colab_link": true
    },
    "kernelspec": {
      "name": "python3",
      "display_name": "Python 3"
    },
    "language_info": {
      "name": "python"
    }
  },
  "cells": [
    {
      "cell_type": "markdown",
      "metadata": {
        "id": "view-in-github",
        "colab_type": "text"
      },
      "source": [
        "<a href=\"https://colab.research.google.com/github/Maan0322/psqly_jbook/blob/main/Untitled4.ipynb\" target=\"_parent\"><img src=\"https://colab.research.google.com/assets/colab-badge.svg\" alt=\"Open In Colab\"/></a>"
      ]
    },
    {
      "cell_type": "markdown",
      "source": [
        "Parcial 2: Estructura de datos I"
      ],
      "metadata": {
        "id": "r0wwSwQwUWut"
      }
    },
    {
      "cell_type": "code",
      "source": [
        "Listas enlazadas"
      ],
      "metadata": {
        "id": "F2Ke48zBj4B4"
      },
      "execution_count": null,
      "outputs": []
    },
    {
      "cell_type": "markdown",
      "source": [
        "\n",
        "\n",
        "---\n",
        "\n"
      ],
      "metadata": {
        "id": "7ARxQgsZj3Gq"
      }
    },
    {
      "cell_type": "markdown",
      "source": [
        "Crear la unidad base de la lista: los nodos"
      ],
      "metadata": {
        "id": "iPFwGbHVU12x"
      }
    },
    {
      "cell_type": "code",
      "source": [
        "class Nodo:\n",
        "    def __init__(self, data = None, next = None):\n",
        "        self.data = data\n",
        "        self.next = next\n"
      ],
      "metadata": {
        "id": "yZp_1HlMUWL9"
      },
      "execution_count": null,
      "outputs": []
    },
    {
      "cell_type": "markdown",
      "source": [
        "Se crea la clase de la lista enlazada"
      ],
      "metadata": {
        "id": "bGFh8AciU72A"
      }
    },
    {
      "cell_type": "code",
      "source": [
        "class Lista_enlazada:\n",
        "    def __init__(self):\n",
        "        self.head = None\n",
        "\n",
        "    # Método para agregar elementos en el frente de la linked list\n",
        "    def agregar_al_inicio(self, data):\n",
        "        self.head = Nodo(data=data, next=self.head)\n",
        "        #nuevo_nodo = Nodo(data)\n",
        "        #nuevo_nodo.next = self.head\n",
        "        #return nuevo_nodo\n",
        "\n",
        "    # Método para verificar si la estructura de datos esta vacia\n",
        "    def is_empty(self):\n",
        "        return self.head == None\n",
        "\n",
        "    # Método para agregar elementos al final de la lista enlazada\n",
        "    def agregar_al_final(self, data):\n",
        "      #Si la lista no existe, entonces se crea\n",
        "        if not self.head:\n",
        "            self.head = Nodo(data=data)\n",
        "            return\n",
        "        #recorre toda la lista hasta llegar al final,\n",
        "        #cuando temporal.next=None\n",
        "        temporal = self.head\n",
        "        while temporal.next:\n",
        "            temporal = temporal.next\n",
        "        #Cuando llega al final de la lista, enlaza el último nodo con\n",
        "        #el nuevo nodo que se crea\n",
        "        temporal.next = Nodo(data=data)\n",
        "\n",
        "    def longitud(self):\n",
        "      actual=self.head\n",
        "      i=1\n",
        "      while(actual.next is not None):\n",
        "        actual=actual.next\n",
        "        i+=1\n",
        "\n",
        "      return i\n",
        "\n",
        "    def eliminar_lastnode(self):\n",
        "      actual=self.head\n",
        "      previo=None\n",
        "\n",
        "      while actual.next is not None:\n",
        "          previo=actualactua=actual.next\n",
        "\n",
        "      previo=self.head\n",
        "\n",
        "    def agregar_en_medio(self, data, key):\n",
        "        nuevo_nodo = Nodo(data)\n",
        "        key-=1\n",
        "        # Caso 1: La lista está vacía\n",
        "        if self.head is None:\n",
        "            self.head = nuevo_nodo\n",
        "            return\n",
        "\n",
        "        # Caso 2: La posición deseada es la primera\n",
        "        if key == 0:\n",
        "            nuevo_nodo.next = self.head\n",
        "            self.head = nuevo_nodo\n",
        "            return\n",
        "\n",
        "        # Caso 3: La posición deseada no existe o es la última\n",
        "        actual = self.head\n",
        "        previo = None\n",
        "        posicion_actual = 0\n",
        "\n",
        "        while actual is not None and posicion_actual < key:\n",
        "            previo = actual\n",
        "            actual = actual.next\n",
        "            posicion_actual += 1\n",
        "\n",
        "        previo.next = nuevo_nodo\n",
        "        nuevo_nodo.next = actual\n",
        "\n",
        "\n",
        "    # Método para eleminar nodos\n",
        "    def delete_node(self, key):\n",
        "        actual = self.head\n",
        "        previo = None\n",
        "        #Se busca el dato a eliminar en la lista\n",
        "        while actual and actual.data != key:\n",
        "            previo = actual\n",
        "            actual = actual.next\n",
        "        #Si el dato a eliminar es el primero,\n",
        "        #entonces se reasigna la cabeza de la lista\n",
        "        if previo is None:\n",
        "            self.head = actual.next\n",
        "        elif actual:\n",
        "            previo.next = actual.next\n",
        "            actual.next = None\n",
        "\n",
        "    # Método para obtener el ultimo nodo\n",
        "    def get_last_node(self):\n",
        "        temp = self.head\n",
        "        while(temp.next is not None):\n",
        "            temp = temp.next\n",
        "        return temp.data\n",
        "\n",
        "    # Método para imprimir la lista de nodos\n",
        "    def print_list( self ):\n",
        "        node = self.head\n",
        "        while node != None:\n",
        "            print(node.data, end =\" --> \")\n",
        "            node = node.next\n",
        "\n",
        "\n",
        "    def contar_key(self,key):\n",
        "      cont=0\n",
        "      actual=self.head\n",
        "\n",
        "      while actual.next!=None:\n",
        "        if actual.data==key:\n",
        "          cont+=1\n",
        "        actual=actual.next\n",
        "\n",
        "      print(\"el número de veces que aparece \",key,\" es de: \",cont)\n",
        "\n"
      ],
      "metadata": {
        "id": "KGGm03zEUVge"
      },
      "execution_count": null,
      "outputs": []
    },
    {
      "cell_type": "code",
      "source": [],
      "metadata": {
        "id": "-7_6y9cady5L"
      },
      "execution_count": null,
      "outputs": []
    },
    {
      "cell_type": "markdown",
      "source": [
        "Ejemplo"
      ],
      "metadata": {
        "id": "GBBDLjOUVERC"
      }
    },
    {
      "cell_type": "code",
      "execution_count": null,
      "metadata": {
        "colab": {
          "base_uri": "https://localhost:8080/"
        },
        "id": "nJT_I1OVUR8I",
        "outputId": "2604a1f3-7718-4848-bb38-b5e7413c91f0"
      },
      "outputs": [
        {
          "output_type": "stream",
          "name": "stdout",
          "text": [
            "5 --> 8 --> "
          ]
        }
      ],
      "source": [
        "Mi_lista = Lista_enlazada() # Instancia de la clase\n",
        "Mi_lista.agregar_al_inicio(5) # Agregamos un elemento al frente del nodo\n",
        "Mi_lista.agregar_al_final(8) # Agregamos un elemento al final del nodo\n",
        "\n",
        "Mi_lista.print_list() # Imprimimos la lista de nodos"
      ]
    },
    {
      "cell_type": "code",
      "source": [
        "Mi_lista.agregar_al_inicio(9) # Agregamos otro elemento al frente del nodo\n",
        "Mi_lista.print_list() # Imprimimos la lista de nodos"
      ],
      "metadata": {
        "colab": {
          "base_uri": "https://localhost:8080/"
        },
        "id": "HarS1cs_VJCp",
        "outputId": "557a6d34-01df-46b3-806b-84213e70d633"
      },
      "execution_count": null,
      "outputs": [
        {
          "output_type": "stream",
          "name": "stdout",
          "text": [
            "9 --> 5 --> 8 --> "
          ]
        }
      ]
    },
    {
      "cell_type": "code",
      "source": [
        "Mi_lista.agregar_en_medio(\"ciao\",3)\n",
        "Mi_lista.print_list() # Imprimimos la lista de nodos"
      ],
      "metadata": {
        "colab": {
          "base_uri": "https://localhost:8080/"
        },
        "id": "anSJKbjVYT-K",
        "outputId": "44b13578-d779-4d30-959f-77268a904516"
      },
      "execution_count": null,
      "outputs": [
        {
          "output_type": "stream",
          "name": "stdout",
          "text": [
            "9 --> 5 --> ciao --> 8 --> "
          ]
        }
      ]
    },
    {
      "cell_type": "code",
      "source": [
        "Mi_lista.delete_node(5) # Eliminamos el elemento 5 de la lista\n",
        "Mi_lista.print_list() # Imprimimos la lista de nodos"
      ],
      "metadata": {
        "colab": {
          "base_uri": "https://localhost:8080/"
        },
        "id": "b1h4iPKwVLBC",
        "outputId": "0e42f4c7-2dac-4b74-e815-286c483e0553"
      },
      "execution_count": null,
      "outputs": [
        {
          "output_type": "stream",
          "name": "stdout",
          "text": [
            "9 --> ciao --> 8 --> "
          ]
        }
      ]
    },
    {
      "cell_type": "code",
      "source": [
        "Mi_lista.longitud()"
      ],
      "metadata": {
        "colab": {
          "base_uri": "https://localhost:8080/"
        },
        "id": "EFUebnmbda30",
        "outputId": "0e16a7ee-5a24-4cae-d802-5525811cc467"
      },
      "execution_count": null,
      "outputs": [
        {
          "output_type": "execute_result",
          "data": {
            "text/plain": [
              "3"
            ]
          },
          "metadata": {},
          "execution_count": 47
        }
      ]
    },
    {
      "cell_type": "markdown",
      "source": [
        "LISTAS CIRCULARES"
      ],
      "metadata": {
        "id": "xmWSLLrIEwVf"
      }
    },
    {
      "cell_type": "markdown",
      "source": [
        "Realizar un programa que inicialice una lista con 10 valores aleatorios (del 1 al 10) y posteriormente muestre en pantalla cada elemento de la lista junto con su cuadrado y su cubo."
      ],
      "metadata": {
        "id": "waWJQWZrFRzz"
      }
    },
    {
      "cell_type": "code",
      "source": [
        "import random\n",
        "lista_numeros = []\n",
        "# Primer recorrido para leer la lista\n",
        "for indice in range(1,11):\n",
        "\tlista_numeros.append(random.randint(1,10))\n",
        "## Segundo recorrido para mostrar el resultado\n",
        "for numero in lista_numeros:\n",
        "\tprint(numero,\" \",numero ** 2,\" \",numero ** 3)"
      ],
      "metadata": {
        "id": "DtuUDfGVGwXH"
      },
      "execution_count": null,
      "outputs": []
    },
    {
      "cell_type": "markdown",
      "source": [
        "Crea una lista e inicializala con 5 cadenas de caracteres leídas por teclado. Copia los elementos de la lista en otra lista pero en orden inverso, y muestra sus elementos por la pantalla."
      ],
      "metadata": {
        "id": "BU64nnUVFVJQ"
      }
    },
    {
      "cell_type": "code",
      "source": [
        "lista1 = []\n",
        "lista2 = []\n",
        "# Recorro la lista1 y leo cada elemento por teclado.\n",
        "for indice in range(1,6):\n",
        "\tlista1.append(input(\"Dame la cadena %d:\" % indice))\n",
        "\n",
        "# Copio la lista1 en la lista2 en orden inverso\n",
        "lista2 = lista1[::-1]\n",
        "\n",
        "# Recorro el vector2 para mostrarlo\n",
        "for cadena in lista2:\n",
        "\tprint(cadena)"
      ],
      "metadata": {
        "id": "xkFCRwLQHES1"
      },
      "execution_count": null,
      "outputs": []
    },
    {
      "cell_type": "markdown",
      "source": [
        "Se quiere realizar un programa que lea por teclado las 5 notas obtenidas por un alumno (comprendidas entre 0 y 10). A continuación debe mostrar todas las notas, la nota media, la nota más alta que ha sacado y la menor."
      ],
      "metadata": {
        "id": "S6pzUPG0FZ6L"
      }
    },
    {
      "cell_type": "code",
      "source": [
        "notas = []\n",
        "for indice in range(1,6):\n",
        "\twhile True:\n",
        "\t\tnota = int(input(\"Introduce la nota %d:\" % indice))\n",
        "\t\tif nota>=0 and nota<=10: break\n",
        "\tnotas.append(nota)\n",
        "\n",
        "# Muestro resultados\n",
        "\n",
        "print(\"Notas: \",end=\"\")\n",
        "for nota in notas:\n",
        "\tprint(nota,\" \",end=\"\")\n",
        "print()\n",
        "print(\"Nota media: \",sum(notas)/len(notas))\n",
        "print(\"Nota max: \",max(notas))\n",
        "print(\"Nota min: \",min(notas))"
      ],
      "metadata": {
        "id": "KJT14HLXHzSt"
      },
      "execution_count": null,
      "outputs": []
    },
    {
      "cell_type": "markdown",
      "source": [
        "Programa que declare una lista y la vaya llenando de números hasta que introduzcamos un número negativo. Entonces se debe imprimir el vector (sólo los elementos introducidos)."
      ],
      "metadata": {
        "id": "_KdKX3IvFfoL"
      }
    },
    {
      "cell_type": "code",
      "source": [
        "lista = []\n",
        "numero = int(input(\"Introduce un número en la lista:\"))\n",
        "while numero>=0:\n",
        "\tlista.append(numero)\n",
        "\tnumero = int(input(\"Introduce un número en la lista:\"))\n",
        "\n",
        "for numero in lista:\n",
        "\tprint(numero,\" \",end=\"\")"
      ],
      "metadata": {
        "id": "4SbtgIKRH6FV"
      },
      "execution_count": null,
      "outputs": []
    },
    {
      "cell_type": "markdown",
      "source": [
        "Hacer un programa que inicialice una lista de números con valores aleatorios (10 valores), y posterior ordene los elementos de menor a mayor."
      ],
      "metadata": {
        "id": "rHSW74eIFkvS"
      }
    },
    {
      "cell_type": "code",
      "source": [
        "import random\n",
        "lista = []\n",
        "for indice in range(1,11):\n",
        "\tlista.append(random.randint(1,10))\n",
        "# Ordeno la lista\n",
        "lista.sort()\n",
        "\n",
        "# Recorro el vector ordenado\n",
        "for numero in lista:\n",
        "\tprint(numero,\" \",end=\"\")"
      ],
      "metadata": {
        "id": "VZXVlZGhH_iA"
      },
      "execution_count": null,
      "outputs": []
    },
    {
      "cell_type": "markdown",
      "source": [
        "Crea un programa que pida un número al usuario un número de mes (por ejemplo, el 4) y diga cuántos días tiene (por ejemplo, 30) y el nombre del mes. Debes usar listas. Para simplificarlo vamos a suponer que febrero tiene 28 días."
      ],
      "metadata": {
        "id": "7e2Y1xc2FnO_"
      }
    },
    {
      "cell_type": "code",
      "source": [
        "dias = [31,28,31,30,31,30,31,31,30,31,30,31]\n",
        "nombre_mes = [\"Enero\",\"Febrero\",\"Marzo\",\"Abril\",\"Mayo\",\"Junio\",\"Julio\",\"Agosto\",\"Septiembre\",\"Octubre\",\"Noviembre\",\"Diciembre\"]\n",
        "while True:\n",
        "\tmes = int(input(\"Introduce un mes (1-12):\"))\n",
        "\tif mes < 1 or mes > 12:\n",
        "\t\tprint(\"Error: mes incorrecto.\")\n",
        "\tif mes>=1 and mes<=12: break\n",
        "print(\"El mes de\",nombre_mes[mes-1],\"tiene\",dias[mes-1],\"días.\")"
      ],
      "metadata": {
        "id": "YnRccGOTIEQz"
      },
      "execution_count": null,
      "outputs": []
    },
    {
      "cell_type": "markdown",
      "source": [
        "Programa que declare tres listas ‘lista1’, ‘lista2’ y ‘lista3’ de cinco enteros cada uno, pida valores para ‘lista1’ y ‘lista2’ y calcule lista3=lista1+lista2."
      ],
      "metadata": {
        "id": "54hbCeBoFqA8"
      }
    },
    {
      "cell_type": "code",
      "source": [
        "lista1 = []\n",
        "lista2 = []\n",
        "lista3 = []\n",
        "for indice in range(1,6):\n",
        "\tlista1.append(int(input(\"Introduce el elemento %d del vector1:\" % indice)))\n",
        "for indice in range(1,6):\n",
        "\tlista2.append(int(input(\"Introduce el elemento %d del vector2:\" % indice)))\n",
        "\n",
        "for indice in range(0,5):\n",
        "\tlista3.append(lista1[indice] + lista2[indice])\n",
        "\n",
        "print(\"La suma de los vectores es:\")\n",
        "for numero in lista3:\n",
        "\tprint(numero,\" \",end=\"\")"
      ],
      "metadata": {
        "id": "pCOtiDAsILN3"
      },
      "execution_count": null,
      "outputs": []
    },
    {
      "cell_type": "markdown",
      "source": [
        "Queremos guardar los nombres y la edades de los alumnos de un curso. Realiza un programa que introduzca el nombre y la edad de cada alumno. El proceso de lectura de datos terminará cuando se introduzca como nombre un asterisco (*) Al finalizar se mostrará los siguientes datos:\n",
        "\n",
        "Todos lo alumnos mayores de edad.\n",
        "Los alumnos mayores (los que tienen más edad)\n"
      ],
      "metadata": {
        "id": "4ZXOZqdfFtP5"
      }
    },
    {
      "cell_type": "code",
      "source": [
        "nombres = []\n",
        "edades = []\n",
        "# Inicializo las listas hasta que introduzca un \"*\"\n",
        "while True:\n",
        "\tnombre = input(\"Dime el nombre de un alumno:\")\n",
        "\tif nombre != \"*\":\n",
        "\t\tnombres.append(nombre)\n",
        "\t\tedades.append(int(input(\"Dime su edad:\")))\n",
        "\tif nombre == \"*\": break;\n",
        "\n",
        "# Calcular la edad máxima\n",
        "edad_max = max(edades)\n",
        "# Alumnos mayores de edad\n",
        "print(\"Alumnos mayores de edad\")\n",
        "print(\"=======================\")\n",
        "for nombre,edad in zip(nombres,edades):\n",
        "\tif edad >= 18:\n",
        "\t\tprint(nombre)\n",
        "\n",
        "# Alumnos mayores\n",
        "\n",
        "print(\"Alumnos mayores\")\n",
        "print(\"===============\")\n",
        "for nombre,edad in zip(nombres,edades):\n",
        "\tif edad == edad_max:\n",
        "\t\tprint(nombre)"
      ],
      "metadata": {
        "id": "CnSe04ZkIRGj"
      },
      "execution_count": null,
      "outputs": []
    },
    {
      "cell_type": "markdown",
      "source": [
        "Crear una clase de nodo:"
      ],
      "metadata": {
        "id": "TfUDzhE6kJgi"
      }
    },
    {
      "cell_type": "code",
      "source": [
        "class Node(object):\n",
        "         \"\" \"Crear una clase de nodo\" \"\"\n",
        "    def __init__(self, data):\n",
        "        self.data = data\n",
        "        self.next = None"
      ],
      "metadata": {
        "id": "XYtcnXuYkKet"
      },
      "execution_count": null,
      "outputs": []
    },
    {
      "cell_type": "markdown",
      "source": [
        "Cree una clase que cree una lista vinculada circular:\n",
        "Las siguientes funciones que operan la lista circular vinculada se escribirán en esta clase"
      ],
      "metadata": {
        "id": "yQyQUWI2kQ88"
      }
    },
    {
      "cell_type": "code",
      "source": [
        "class create_circular_linked_list(object):\n",
        "         \"\" \"Crear una clase que cree una lista circular vinculada\" \"\"\n",
        "    def __init__(self):\n",
        "        self.head = None\n",
        "\n",
        "    def is_empty(self):\n",
        "                 \"\" \"Determine si la lista circular está vacía\" \"\"\n",
        "        return self.head is None"
      ],
      "metadata": {
        "id": "rqs7BEG7kRuD"
      },
      "execution_count": null,
      "outputs": []
    },
    {
      "cell_type": "markdown",
      "source": [
        "Obtenga la longitud de la lista circular:\n",
        "El proceso general:\n",
        "\n",
        "Primero determine si el nodo actual está vacío mientras que, si el nodo actual no está vacío, la longitud aumenta en uno\n",
        "Luego determine si es un nodo de cola, si es un nodo de cola, continúe retrocediendo para juzgar"
      ],
      "metadata": {
        "id": "I1JXQ-eCkUaQ"
      }
    },
    {
      "cell_type": "code",
      "source": [
        "def length(self):\n",
        "         \"\" \"Obtenga la longitud de la lista circular\" \"\"\n",
        "    cur = self.head\n",
        "    count = 0\n",
        "    while cur is not None:\n",
        "        count += 1\n",
        "                 # Si el siguiente nodo del nodo actual es el nodo principal, significa que este nodo es el nodo de cola\n",
        "                 # Si no, mueva el puntero hacia atrás\n",
        "        if cur.next == self.head:\n",
        "            break\n",
        "        else:\n",
        "            cur = cur.next\n",
        "    return count"
      ],
      "metadata": {
        "id": "Fr2vx3LgkZjO"
      },
      "execution_count": null,
      "outputs": []
    },
    {
      "cell_type": "markdown",
      "source": [
        "Recorre la lista vinculada e imprímela:"
      ],
      "metadata": {
        "id": "TIIuxzufkbof"
      }
    },
    {
      "cell_type": "code",
      "source": [
        "def travel(self):\n",
        "         \"\" \"Recorriendo la lista vinculada\" \"\"\n",
        "    if self.is_empty():\n",
        "        return\n",
        "    cur = self.head\n",
        "    print(cur.data)\n",
        "    while cur.next != self.head:\n",
        "        cur = cur.next\n",
        "        print(cur.data)"
      ],
      "metadata": {
        "id": "ge4JdPqTkoMn"
      },
      "execution_count": null,
      "outputs": []
    },
    {
      "cell_type": "markdown",
      "source": [
        "Agregue un nodo a la cabeza (interpolación de cabeza):"
      ],
      "metadata": {
        "id": "xdfX49eAku6U"
      }
    },
    {
      "cell_type": "code",
      "source": [
        "def add_first(self, data):\n",
        "         \"\" \"Agregar un nodo en la cabeza\" \"\"\n",
        "    node = Node(data)\n",
        "    if self.is_empty():\n",
        "        self.head = node\n",
        "        node.next = self.head\n",
        "    else:\n",
        "        cur = self.head\n",
        "                 # Mueva el puntero al nodo de cola\n",
        "        while cur.next is not self.head:\n",
        "            cur = cur.next\n",
        "                 # El nodo de cola apunta al nuevo nodo\n",
        "        cur.next = node\n",
        "                 # El nuevo nodo apunta al nodo principal original\n",
        "        node.next = self.head\n",
        "                 # Luego dele el título del nodo principal al nuevo nodo\n",
        "        self.head = node"
      ],
      "metadata": {
        "id": "zbUPvw1ZkwXT"
      },
      "execution_count": null,
      "outputs": []
    },
    {
      "cell_type": "markdown",
      "source": [
        "Agregue un nodo en la cola (interpolación de cola):"
      ],
      "metadata": {
        "id": "hjNc9vb8kzf0"
      }
    },
    {
      "cell_type": "code",
      "source": [
        "def add_last(self, data):\n",
        "         \"\" \"Agregar un nodo al final\" \"\"\n",
        "    node = Node(data)\n",
        "    if self.is_empty():\n",
        "        self.head = node\n",
        "        node.next = self.head\n",
        "    else:\n",
        "        cur = self.head\n",
        "                 # Mueve el puntero al final\n",
        "        while cur.next is not self.head:\n",
        "            cur = cur.next\n",
        "                 # El nodo de cola apunta al nuevo nodo\n",
        "        cur.next = node\n",
        "                 # El nuevo nodo apunta al nodo principal\n",
        "        node.next = self.head"
      ],
      "metadata": {
        "id": "TO80taV3k2qQ"
      },
      "execution_count": null,
      "outputs": []
    },
    {
      "cell_type": "markdown",
      "source": [
        "Insertar un nodo en la posición especificada:\n",
        "tres situaciones:\n",
        "\n",
        "1. Error de inserción: la posición del índice no está dentro de la longitud de la lista vinculada\n",
        "\n",
        "2. Inserte la cabeza: llame directamente a la función del método de interpolación de la cabeza\n",
        "\n",
        "3. Insertar en el medio:\n",
        "\n",
        "El puntero se mueve a la posición de inserción.\n",
        "Apunte el nodo anterior (pre) en el punto de inserción al nuevo nodo\n",
        "El nuevo nodo apunta al nodo actual original (cur)"
      ],
      "metadata": {
        "id": "XBKfmK9ek_eP"
      }
    },
    {
      "cell_type": "code",
      "source": [
        "def insert_node(self, index, data):\n",
        "         \"\" \"Insertar un nodo en una posición especificada\" \"\"\n",
        "    node = Node(data)\n",
        "    if index < 0 or index > self.length():\n",
        "                 print (\"Posición de inserción incorrecta\")\n",
        "        return False\n",
        "    elif index == 0:\n",
        "        self.add_first(data)\n",
        "    elif index == 0:\n",
        "        self.add_last()\n",
        "    else:\n",
        "        cur = self.head\n",
        "                 pre = Ninguno # pre es el nodo anterior del nodo señalado por el puntero actual\n",
        "        count = 0\n",
        "                 # Mueva el puntero a la posición para insertar\n",
        "        while count < index:\n",
        "            pre = cur\n",
        "            cur = cur.next\n",
        "            count += 1\n",
        "        pre.next = node\n",
        "        node.next = cur"
      ],
      "metadata": {
        "id": "ui96o9ySlB4L"
      },
      "execution_count": null,
      "outputs": []
    },
    {
      "cell_type": "markdown",
      "source": [
        "Eliminar el nodo especificado:"
      ],
      "metadata": {
        "id": "zImuNPX4lEkM"
      }
    },
    {
      "cell_type": "code",
      "source": [
        "def remove_node(self, data):\n",
        "    \"\" \"Eliminar nodo especificado\" \"\"\n",
        "    if self.is_empty():\n",
        "        return\n",
        "         # Si el nodo que se va a eliminar es el nodo principal\n",
        "    elif data == self.head.data:\n",
        "        cur = self.head\n",
        "        while cur.next != self.head:\n",
        "            cur = cur.next\n",
        "        cur.next = self.head.next\n",
        "        self.head = self.head.next\n",
        "    else:\n",
        "        cur = self.head\n",
        "        pre = None\n",
        "                 # Mover a la posición del nodo que se va a eliminar\n",
        "        while cur.data != data:\n",
        "            pre = cur\n",
        "            cur = cur.next\n",
        "                 # Apunte el nodo precursor del nodo que se va a eliminar al nodo posterior, de modo que se omita el nodo central\n",
        "        pre.next = cur.next"
      ],
      "metadata": {
        "id": "m0C3UatllLPR"
      },
      "execution_count": null,
      "outputs": []
    },
    {
      "cell_type": "markdown",
      "source": [
        "Encuentre si el nodo especificado existe:"
      ],
      "metadata": {
        "id": "aKz4BZvXlOop"
      }
    },
    {
      "cell_type": "code",
      "source": [
        "def is_exist(self, data):\n",
        "         \"\" \"Buscar si el nodo especificado existe\" \"\"\n",
        "    cur = self.head\n",
        "    while cur is not None:\n",
        "                 # Encuentra el nodo encontrado\n",
        "        if cur.data == data:\n",
        "            return True\n",
        "                 # La cola ha sido encontrada\n",
        "        elif cur.next == self.head:\n",
        "            return False\n",
        "        else:\n",
        "            cur = cur.next\n",
        "    return False"
      ],
      "metadata": {
        "id": "QbjBr2BMlQ06"
      },
      "execution_count": null,
      "outputs": []
    },
    {
      "cell_type": "markdown",
      "source": [
        "Prueba de función principal:"
      ],
      "metadata": {
        "id": "scEk-wlalX5N"
      }
    },
    {
      "cell_type": "code",
      "source": [
        "if __name__ == '__main__':\n",
        "    lists = create_circular_linked_list()\n",
        "    lists.add_last(2)\n",
        "    lists.add_first(1)\n",
        "    lists.add_first(0)\n",
        "    lists.add_last(3)\n",
        "    lists.insert_node(2, 8)\n",
        "    lists.travel()\n",
        "         print (\"Longitud de la lista:\", lists.length ())\n",
        "    lists.remove_node(8)\n",
        "    lists.travel()\n",
        "    print(lists.is_exist(2))"
      ],
      "metadata": {
        "id": "6bH3GnZElaSV"
      },
      "execution_count": null,
      "outputs": []
    },
    {
      "cell_type": "markdown",
      "source": [
        "Código completo"
      ],
      "metadata": {
        "id": "c0Swwubjlee-"
      }
    },
    {
      "cell_type": "code",
      "source": [
        "class Node(object):\n",
        "         \"\" \"Crear una clase de nodo\" \"\"\n",
        "    def __init__(self, data):\n",
        "        self.data = data\n",
        "        self.next = None\n",
        "\n",
        "class create_circular_linked_list(object):\n",
        "         \"\" \"Crear una clase que cree una lista circular vinculada\" \"\"\n",
        "\n",
        "    def __init__(self):\n",
        "        self.head = None\n",
        "\n",
        "    def is_empty(self):\n",
        "                 \"\" \"Determine si la lista circular está vacía\" \"\"\n",
        "        return self.head is None\n",
        "\n",
        "    def length(self):\n",
        "                 \"\" \"Obtenga la longitud de la lista circular\" \"\"\n",
        "        cur = self.head\n",
        "        count = 0\n",
        "        while cur is not None:\n",
        "            count += 1\n",
        "                         # Si el siguiente nodo del nodo actual es el nodo principal, significa que este nodo es el nodo de cola\n",
        "                         # Si no, mueva el puntero hacia atrás\n",
        "            if cur.next == self.head:\n",
        "                break\n",
        "            else:\n",
        "                cur = cur.next\n",
        "        return count\n",
        "\n",
        "    def add_first(self, data):\n",
        "                 \"\" \"Agregar un nodo en la cabeza\" \"\"\n",
        "        node = Node(data)\n",
        "        if self.is_empty():\n",
        "            self.head = node\n",
        "            node.next = self.head\n",
        "        else:\n",
        "            cur = self.head\n",
        "                         # Mueva el puntero al nodo de cola\n",
        "            while cur.next is not self.head:\n",
        "                cur = cur.next\n",
        "                         # El nodo de cola apunta al nuevo nodo\n",
        "            cur.next = node\n",
        "                         # El nuevo nodo apunta al nodo principal original\n",
        "            node.next = self.head\n",
        "                         # Luego dele el título del nodo principal al nuevo nodo\n",
        "            self.head = node\n",
        "\n",
        "    def add_last(self, data):\n",
        "                 \"\" \"Agregar un nodo al final\" \"\"\n",
        "        node = Node(data)\n",
        "        if self.is_empty():\n",
        "            self.head = node\n",
        "            node.next = self.head\n",
        "        else:\n",
        "            cur = self.head\n",
        "                         # Mueve el puntero al final\n",
        "            while cur.next is not self.head:\n",
        "                cur = cur.next\n",
        "                         # El nodo de cola apunta al nuevo nodo\n",
        "            cur.next = node\n",
        "                         # El nuevo nodo apunta al nodo principal\n",
        "            node.next = self.head\n",
        "\n",
        "    def insert_node(self, index, data):\n",
        "                 \"\" \"Insertar un nodo en una posición especificada\" \"\"\n",
        "        node = Node(data)\n",
        "        if index < 0 or index > self.length():\n",
        "                         print (\"Posición de inserción incorrecta\")\n",
        "            return False\n",
        "        elif index == 0:\n",
        "            self.add_first(data)\n",
        "        else:\n",
        "            cur = self.head\n",
        "                         pre = Ninguno # pre es el nodo anterior del nodo señalado por el puntero actual\n",
        "            count = 0\n",
        "                         # Mueva el puntero a la posición para insertar\n",
        "            while count < index:\n",
        "                pre = cur\n",
        "                cur = cur.next\n",
        "                count += 1\n",
        "            pre.next = node\n",
        "            node.next = cur\n",
        "\n",
        "    def remove_node(self, data):\n",
        "                 \"\" \"Eliminar nodo especificado\" \"\"\n",
        "        if self.is_empty():\n",
        "            return\n",
        "                 # Si el nodo a eliminar es el nodo principal\n",
        "        elif data == self.head.data:\n",
        "            cur = self.head\n",
        "            while cur.next != self.head:\n",
        "                cur = cur.next\n",
        "            cur.next = self.head.next\n",
        "            self.head = self.head.next\n",
        "        else:\n",
        "            cur = self.head\n",
        "            pre = None\n",
        "                         # Mover a la posición del nodo que se va a eliminar\n",
        "            while cur.data != data:\n",
        "                pre = cur\n",
        "                cur = cur.next\n",
        "                         # Apunte el nodo precursor del nodo que se va a eliminar al nodo posterior, de modo que se omita el nodo central\n",
        "            pre.next = cur.next\n",
        "\n",
        "    def travel(self):\n",
        "                 \"\" \"Recorriendo la lista vinculada\" \"\"\n",
        "        if self.is_empty():\n",
        "            return\n",
        "        cur = self.head\n",
        "        print(cur.data)\n",
        "        while cur.next != self.head:\n",
        "            cur = cur.next\n",
        "            print(cur.data)\n",
        "\n",
        "    def is_exist(self, data):\n",
        "                 \"\" \"Buscar si el nodo especificado existe\" \"\"\n",
        "        cur = self.head\n",
        "        while cur is not None:\n",
        "                         # Encuentra el nodo encontrado\n",
        "            if cur.data == data:\n",
        "                return True\n",
        "                         # La cola ha sido encontrada\n",
        "            elif cur.next == self.head:\n",
        "                return False\n",
        "            else:\n",
        "                cur = cur.next\n",
        "        return False\n",
        "\n",
        "\n",
        "if __name__ == '__main__':\n",
        "    lists = create_circular_linked_list()\n",
        "    lists.add_last(2)\n",
        "    lists.add_first(1)\n",
        "    lists.add_first(0)\n",
        "    lists.add_last(3)\n",
        "    lists.insert_node(2, 8)\n",
        "    lists.travel()\n",
        "         print (\"Longitud de la lista:\", lists.length ())\n",
        "    lists.remove_node(8)\n",
        "    lists.travel()\n",
        "    print(lists.is_exist(2))"
      ],
      "metadata": {
        "id": "C9DnFBXIlfRp"
      },
      "execution_count": null,
      "outputs": []
    },
    {
      "cell_type": "code",
      "source": [
        "import string\n",
        "\n",
        "def contiene_solo_numeros(cadena):\n",
        "    return cadena.isdigit()\n",
        "\n",
        "def contiene_solo_letras(cadena):\n",
        "    return all(caracter.isalpha() or caracter.isspace() for caracter in cadena)\n",
        "\n",
        "def contiene_solo_letras(cadena):\n",
        "    return all(caracter.isalpha() for caracter in cadena)\n",
        "\n",
        "\n"
      ],
      "metadata": {
        "id": "bi6dYRxemCNg"
      },
      "execution_count": null,
      "outputs": []
    }
  ]
}