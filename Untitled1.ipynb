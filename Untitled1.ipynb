{
  "nbformat": 4,
  "nbformat_minor": 0,
  "metadata": {
    "colab": {
      "provenance": [],
      "authorship_tag": "ABX9TyOIx6JU8hBkLrQtURRj+GRi",
      "include_colab_link": true
    },
    "kernelspec": {
      "name": "python3",
      "display_name": "Python 3"
    },
    "language_info": {
      "name": "python"
    }
  },
  "cells": [
    {
      "cell_type": "markdown",
      "metadata": {
        "id": "view-in-github",
        "colab_type": "text"
      },
      "source": [
        "<a href=\"https://colab.research.google.com/github/Maan0322/psqly_jbook/blob/main/Untitled1.ipynb\" target=\"_parent\"><img src=\"https://colab.research.google.com/assets/colab-badge.svg\" alt=\"Open In Colab\"/></a>"
      ]
    },
    {
      "cell_type": "markdown",
      "source": [
        "TAD Lista Enlazada"
      ],
      "metadata": {
        "id": "-E5g4F5-oEdt"
      }
    },
    {
      "cell_type": "code",
      "source": [],
      "metadata": {
        "id": "jzY4TCCxnmJq"
      },
      "execution_count": null,
      "outputs": []
    },
    {
      "cell_type": "code",
      "execution_count": null,
      "metadata": {
        "id": "E6HuvgImntPt"
      },
      "outputs": [],
      "source": [
        "class Nodo:\n",
        "    def __init__(self, data = None, next = None):\n",
        "        self.data = data\n",
        "        self.next = next\n"
      ]
    },
    {
      "cell_type": "markdown",
      "source": [
        "Clase lista enlazada"
      ],
      "metadata": {
        "id": "g0Zol7Z9oJZV"
      }
    },
    {
      "cell_type": "code",
      "source": [
        "class Lista_enlazada:\n",
        "    def __init__(self):\n",
        "        self.head = None\n",
        "\n",
        "    # Método para agregar elementos en el frente de la linked list\n",
        "    def agregar_al_inicio(self, data):\n",
        "        self.head = Nodo(data=data, next=self.head)\n",
        "        #nuevo_nodo = Nodo(data)\n",
        "        #nuevo_nodo.next = self.head\n",
        "        #return nuevo_nodo\n",
        "\n",
        "    # Método para verificar si la estructura de datos esta vacia\n",
        "    def is_empty(self):\n",
        "        return self.head == None\n",
        "\n",
        "    # Método para agregar elementos al final de la lista enlazada\n",
        "    def agregar_al_final(self, data):\n",
        "      #Si la lista no existe, entonces se crea\n",
        "        if not self.head:\n",
        "            self.head = Nodo(data=data)\n",
        "            return\n",
        "        #recorre toda la lista hasta llegar al final,\n",
        "        #cuando temporal.next=None\n",
        "        temporal = self.head\n",
        "        while temporal.next:\n",
        "            temporal = temporal.next\n",
        "        #Cuando llega al final de la lista, enlaza el último nodo con\n",
        "        #el nuevo nodo que se crea\n",
        "        temporal.next = Nodo(data=data)\n",
        "\n",
        "    # Método para eleminar nodos\n",
        "    def delete_node(self, key):\n",
        "        actual = self.head\n",
        "        previo = None\n",
        "        #Se busca el dato a eliminar en la lista\n",
        "        while actual and actual.data != key:\n",
        "            previo = actual\n",
        "            actual = actual.next\n",
        "        #Si el dato a eliminar es el primero,\n",
        "        #entonces se reasigna la cabeza de la lista\n",
        "        if previo is None:\n",
        "            self.head = actual.next\n",
        "        elif actual:\n",
        "            previo.next = actual.next\n",
        "            actual.next = None\n",
        "\n",
        "    # Método para obtener el ultimo nodo\n",
        "    def get_last_node(self):\n",
        "        temp = self.head\n",
        "        while(temp.next is not None):\n",
        "            temp = temp.next\n",
        "        return temp.data\n",
        "\n",
        "    # Método para imprimir la lista de nodos\n",
        "    def print_list( self ):\n",
        "        node = self.head\n",
        "        while node != None:\n",
        "            print(node.data, end =\" --> \")\n",
        "            node = node.next\n",
        "\n",
        "    def agregar_pos(self, dato,pos):\n",
        "\n",
        "\n",
        "      nuevoNodo=Nodo(dato)\n",
        "\n",
        "      if pos==0:\n",
        "        nuevoNodo.next=self.head\n",
        "        self.head=nuevoNodo\n",
        "      else:\n",
        "        actual = self.head\n",
        "        for _ in range(pos-1):\n",
        "            actual = actual.next\n",
        "        nuevoNodo.next=actual.next\n",
        "        actual.next=nuevoNodo"
      ],
      "metadata": {
        "id": "Pb8BQ8qCnyaQ"
      },
      "execution_count": null,
      "outputs": []
    },
    {
      "cell_type": "markdown",
      "source": [
        "Ejemplo"
      ],
      "metadata": {
        "id": "oIsLewKPoYKl"
      }
    },
    {
      "cell_type": "code",
      "source": [
        "Lista1 = Lista_enlazada()\n",
        "Lista1.agregar_al_inicio(17)\n",
        "Lista1.agregar_al_final(\"hola\")\n",
        "Lista1.agregar_al_final(500)\n",
        "Lista1.print_list()"
      ],
      "metadata": {
        "colab": {
          "base_uri": "https://localhost:8080/"
        },
        "id": "4Y3o85oRoayd",
        "outputId": "8ce0d719-a159-40c0-e06f-738778f6d636"
      },
      "execution_count": null,
      "outputs": [
        {
          "output_type": "stream",
          "name": "stdout",
          "text": [
            "17 --> hola --> 500 --> "
          ]
        }
      ]
    },
    {
      "cell_type": "code",
      "source": [
        "Lista1.agregar_al_inicio(78)\n",
        "Lista1.print_list()\n",
        "print (\"\")\n",
        "Lista1.delete_node(17)\n",
        "Lista1.print_list()"
      ],
      "metadata": {
        "colab": {
          "base_uri": "https://localhost:8080/"
        },
        "id": "GJ_scasyo_GJ",
        "outputId": "78184736-e5b1-4719-8700-6c2ee4eec029"
      },
      "execution_count": null,
      "outputs": [
        {
          "output_type": "stream",
          "name": "stdout",
          "text": [
            "78 --> 17 --> hola --> 500 --> \n",
            "78 --> hola --> 500 --> "
          ]
        }
      ]
    },
    {
      "cell_type": "code",
      "source": [
        "dato=input(\"Digte el dato que desea añadir \")\n",
        "pos= int(input(\"Digite la posición en la que desea añadir el dato \"))\n",
        "\n",
        "Lista1.agregar_pos(dato,pos)\n",
        "Lista1.print_list()\n"
      ],
      "metadata": {
        "colab": {
          "base_uri": "https://localhost:8080/"
        },
        "id": "s0e24AmepxY_",
        "outputId": "617fd2f8-d6c4-4676-8841-904593e7de03"
      },
      "execution_count": null,
      "outputs": [
        {
          "output_type": "stream",
          "name": "stdout",
          "text": [
            "Digte el dato que desea añadir casa\n",
            "Digite la posición en la que desea añadir el dato 3\n",
            "78 --> hola --> 500 --> casa --> mundo --> "
          ]
        }
      ]
    },
    {
      "cell_type": "code",
      "source": [],
      "metadata": {
        "id": "l6Kk-eljvk01"
      },
      "execution_count": null,
      "outputs": []
    }
  ]
}